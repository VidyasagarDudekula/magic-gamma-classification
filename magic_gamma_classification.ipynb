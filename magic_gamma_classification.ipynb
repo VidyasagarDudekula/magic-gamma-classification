{
 "cells": [
  {
   "cell_type": "code",
   "execution_count": 25,
   "id": "f1d0cbc4",
   "metadata": {},
   "outputs": [
    {
     "name": "stdout",
     "output_type": "stream",
     "text": [
      "Collecting imblearn\n",
      "  Downloading imblearn-0.0-py2.py3-none-any.whl (1.9 kB)\n",
      "Collecting imbalanced-learn (from imblearn)\n",
      "  Downloading imbalanced_learn-0.11.0-py3-none-any.whl (235 kB)\n",
      "\u001b[2K     \u001b[90m━━━━━━━━━━━━━━━━━━━━━━━━━━━━━━━━━━━━━━━\u001b[0m \u001b[32m235.6/235.6 kB\u001b[0m \u001b[31m3.9 MB/s\u001b[0m eta \u001b[36m0:00:00\u001b[0ma \u001b[36m0:00:01\u001b[0m\n",
      "\u001b[?25hRequirement already satisfied: numpy>=1.17.3 in /opt/homebrew/lib/python3.11/site-packages (from imbalanced-learn->imblearn) (1.24.2)\n",
      "Requirement already satisfied: scipy>=1.5.0 in /opt/homebrew/lib/python3.11/site-packages (from imbalanced-learn->imblearn) (1.10.1)\n",
      "Requirement already satisfied: scikit-learn>=1.0.2 in /opt/homebrew/lib/python3.11/site-packages (from imbalanced-learn->imblearn) (1.2.2)\n",
      "Requirement already satisfied: joblib>=1.1.1 in /opt/homebrew/lib/python3.11/site-packages (from imbalanced-learn->imblearn) (1.2.0)\n",
      "Requirement already satisfied: threadpoolctl>=2.0.0 in /opt/homebrew/lib/python3.11/site-packages (from imbalanced-learn->imblearn) (3.1.0)\n",
      "Installing collected packages: imbalanced-learn, imblearn\n",
      "Successfully installed imbalanced-learn-0.11.0 imblearn-0.0\n",
      "\n",
      "\u001b[1m[\u001b[0m\u001b[34;49mnotice\u001b[0m\u001b[1;39;49m]\u001b[0m\u001b[39;49m A new release of pip is available: \u001b[0m\u001b[31;49m23.1.2\u001b[0m\u001b[39;49m -> \u001b[0m\u001b[32;49m23.2.1\u001b[0m\n",
      "\u001b[1m[\u001b[0m\u001b[34;49mnotice\u001b[0m\u001b[1;39;49m]\u001b[0m\u001b[39;49m To update, run: \u001b[0m\u001b[32;49mpython3.11 -m pip install --upgrade pip\u001b[0m\n"
     ]
    }
   ],
   "source": [
    "!pip install imblearn"
   ]
  },
  {
   "cell_type": "code",
   "execution_count": 130,
   "id": "cf4b3a05",
   "metadata": {},
   "outputs": [],
   "source": [
    "import os\n",
    "import pandas as pd\n",
    "import numpy as np\n",
    "import matplotlib.pyplot as plt\n",
    "from pathlib import Path\n",
    "from sklearn.preprocessing import StandardScaler\n",
    "from imblearn.over_sampling import RandomOverSampler"
   ]
  },
  {
   "cell_type": "code",
   "execution_count": 131,
   "id": "ba1b18a9",
   "metadata": {},
   "outputs": [
    {
     "data": {
      "text/plain": [
       "PosixPath('/Users/dvidyasagar/Coding/ML/kkn_practice')"
      ]
     },
     "execution_count": 131,
     "metadata": {},
     "output_type": "execute_result"
    }
   ],
   "source": [
    "cwd = Path().absolute()\n",
    "cwd"
   ]
  },
  {
   "cell_type": "code",
   "execution_count": 132,
   "id": "f3e96b45",
   "metadata": {},
   "outputs": [
    {
     "name": "stdout",
     "output_type": "stream",
     "text": [
      "/Users/dvidyasagar/Coding/ML/data/magic_gamma_telescope/magic04.data /Users/dvidyasagar/Coding/ML/data/magic_gamma_telescope/magic04.names\n"
     ]
    }
   ],
   "source": [
    "parent = cwd.parent\n",
    "data_folder = parent.joinpath('data/magic_gamma_telescope')\n",
    "data_path = str(data_folder.joinpath('magic04.data'))\n",
    "names_path = str(data_folder.joinpath('magic04.names'))\n",
    "print(data_path, names_path)"
   ]
  },
  {
   "cell_type": "code",
   "execution_count": 133,
   "id": "de05ae52",
   "metadata": {},
   "outputs": [
    {
     "data": {
      "text/html": [
       "<div>\n",
       "<style scoped>\n",
       "    .dataframe tbody tr th:only-of-type {\n",
       "        vertical-align: middle;\n",
       "    }\n",
       "\n",
       "    .dataframe tbody tr th {\n",
       "        vertical-align: top;\n",
       "    }\n",
       "\n",
       "    .dataframe thead th {\n",
       "        text-align: right;\n",
       "    }\n",
       "</style>\n",
       "<table border=\"1\" class=\"dataframe\">\n",
       "  <thead>\n",
       "    <tr style=\"text-align: right;\">\n",
       "      <th></th>\n",
       "      <th>28.7967</th>\n",
       "      <th>16.0021</th>\n",
       "      <th>2.6449</th>\n",
       "      <th>0.3918</th>\n",
       "      <th>0.1982</th>\n",
       "      <th>27.7004</th>\n",
       "      <th>22.011</th>\n",
       "      <th>-8.2027</th>\n",
       "      <th>40.092</th>\n",
       "      <th>81.8828</th>\n",
       "      <th>g</th>\n",
       "    </tr>\n",
       "  </thead>\n",
       "  <tbody>\n",
       "    <tr>\n",
       "      <th>0</th>\n",
       "      <td>31.6036</td>\n",
       "      <td>11.7235</td>\n",
       "      <td>2.5185</td>\n",
       "      <td>0.5303</td>\n",
       "      <td>0.3773</td>\n",
       "      <td>26.2722</td>\n",
       "      <td>23.8238</td>\n",
       "      <td>-9.9574</td>\n",
       "      <td>6.3609</td>\n",
       "      <td>205.261</td>\n",
       "      <td>g</td>\n",
       "    </tr>\n",
       "    <tr>\n",
       "      <th>1</th>\n",
       "      <td>162.0520</td>\n",
       "      <td>136.0310</td>\n",
       "      <td>4.0612</td>\n",
       "      <td>0.0374</td>\n",
       "      <td>0.0187</td>\n",
       "      <td>116.7410</td>\n",
       "      <td>-64.8580</td>\n",
       "      <td>-45.2160</td>\n",
       "      <td>76.9600</td>\n",
       "      <td>256.788</td>\n",
       "      <td>g</td>\n",
       "    </tr>\n",
       "    <tr>\n",
       "      <th>2</th>\n",
       "      <td>23.8172</td>\n",
       "      <td>9.5728</td>\n",
       "      <td>2.3385</td>\n",
       "      <td>0.6147</td>\n",
       "      <td>0.3922</td>\n",
       "      <td>27.2107</td>\n",
       "      <td>-6.4633</td>\n",
       "      <td>-7.1513</td>\n",
       "      <td>10.4490</td>\n",
       "      <td>116.737</td>\n",
       "      <td>g</td>\n",
       "    </tr>\n",
       "    <tr>\n",
       "      <th>3</th>\n",
       "      <td>75.1362</td>\n",
       "      <td>30.9205</td>\n",
       "      <td>3.1611</td>\n",
       "      <td>0.3168</td>\n",
       "      <td>0.1832</td>\n",
       "      <td>-5.5277</td>\n",
       "      <td>28.5525</td>\n",
       "      <td>21.8393</td>\n",
       "      <td>4.6480</td>\n",
       "      <td>356.462</td>\n",
       "      <td>g</td>\n",
       "    </tr>\n",
       "    <tr>\n",
       "      <th>4</th>\n",
       "      <td>51.6240</td>\n",
       "      <td>21.1502</td>\n",
       "      <td>2.9085</td>\n",
       "      <td>0.2420</td>\n",
       "      <td>0.1340</td>\n",
       "      <td>50.8761</td>\n",
       "      <td>43.1887</td>\n",
       "      <td>9.8145</td>\n",
       "      <td>3.6130</td>\n",
       "      <td>238.098</td>\n",
       "      <td>g</td>\n",
       "    </tr>\n",
       "  </tbody>\n",
       "</table>\n",
       "</div>"
      ],
      "text/plain": [
       "    28.7967   16.0021  2.6449  0.3918  0.1982   27.7004   22.011  -8.2027  \\\n",
       "0   31.6036   11.7235  2.5185  0.5303  0.3773   26.2722  23.8238  -9.9574   \n",
       "1  162.0520  136.0310  4.0612  0.0374  0.0187  116.7410 -64.8580 -45.2160   \n",
       "2   23.8172    9.5728  2.3385  0.6147  0.3922   27.2107  -6.4633  -7.1513   \n",
       "3   75.1362   30.9205  3.1611  0.3168  0.1832   -5.5277  28.5525  21.8393   \n",
       "4   51.6240   21.1502  2.9085  0.2420  0.1340   50.8761  43.1887   9.8145   \n",
       "\n",
       "    40.092  81.8828  g  \n",
       "0   6.3609  205.261  g  \n",
       "1  76.9600  256.788  g  \n",
       "2  10.4490  116.737  g  \n",
       "3   4.6480  356.462  g  \n",
       "4   3.6130  238.098  g  "
      ]
     },
     "execution_count": 133,
     "metadata": {},
     "output_type": "execute_result"
    }
   ],
   "source": [
    "df = pd.read_csv(data_path)\n",
    "df.head()"
   ]
  },
  {
   "cell_type": "code",
   "execution_count": 134,
   "id": "078740b7",
   "metadata": {},
   "outputs": [],
   "source": [
    "#it doesn't have columns names. so lets give the names to our columns."
   ]
  },
  {
   "cell_type": "code",
   "execution_count": 135,
   "id": "15f63903",
   "metadata": {},
   "outputs": [],
   "source": [
    "cols = ['fLength', 'fWidth', 'fSize', 'fConc1', 'fAsym', 'fM3Long', 'fM3Trans', 'fAlpha', 'fDist', 'class']\n",
    "df = pd.read_csv(data_path, names=cols)"
   ]
  },
  {
   "cell_type": "code",
   "execution_count": 136,
   "id": "467aa683",
   "metadata": {},
   "outputs": [
    {
     "data": {
      "text/html": [
       "<div>\n",
       "<style scoped>\n",
       "    .dataframe tbody tr th:only-of-type {\n",
       "        vertical-align: middle;\n",
       "    }\n",
       "\n",
       "    .dataframe tbody tr th {\n",
       "        vertical-align: top;\n",
       "    }\n",
       "\n",
       "    .dataframe thead th {\n",
       "        text-align: right;\n",
       "    }\n",
       "</style>\n",
       "<table border=\"1\" class=\"dataframe\">\n",
       "  <thead>\n",
       "    <tr style=\"text-align: right;\">\n",
       "      <th></th>\n",
       "      <th>fLength</th>\n",
       "      <th>fWidth</th>\n",
       "      <th>fSize</th>\n",
       "      <th>fConc1</th>\n",
       "      <th>fAsym</th>\n",
       "      <th>fM3Long</th>\n",
       "      <th>fM3Trans</th>\n",
       "      <th>fAlpha</th>\n",
       "      <th>fDist</th>\n",
       "      <th>class</th>\n",
       "    </tr>\n",
       "  </thead>\n",
       "  <tbody>\n",
       "    <tr>\n",
       "      <th>28.7967</th>\n",
       "      <td>16.0021</td>\n",
       "      <td>2.6449</td>\n",
       "      <td>0.3918</td>\n",
       "      <td>0.1982</td>\n",
       "      <td>27.7004</td>\n",
       "      <td>22.0110</td>\n",
       "      <td>-8.2027</td>\n",
       "      <td>40.0920</td>\n",
       "      <td>81.8828</td>\n",
       "      <td>g</td>\n",
       "    </tr>\n",
       "    <tr>\n",
       "      <th>31.6036</th>\n",
       "      <td>11.7235</td>\n",
       "      <td>2.5185</td>\n",
       "      <td>0.5303</td>\n",
       "      <td>0.3773</td>\n",
       "      <td>26.2722</td>\n",
       "      <td>23.8238</td>\n",
       "      <td>-9.9574</td>\n",
       "      <td>6.3609</td>\n",
       "      <td>205.2610</td>\n",
       "      <td>g</td>\n",
       "    </tr>\n",
       "    <tr>\n",
       "      <th>162.0520</th>\n",
       "      <td>136.0310</td>\n",
       "      <td>4.0612</td>\n",
       "      <td>0.0374</td>\n",
       "      <td>0.0187</td>\n",
       "      <td>116.7410</td>\n",
       "      <td>-64.8580</td>\n",
       "      <td>-45.2160</td>\n",
       "      <td>76.9600</td>\n",
       "      <td>256.7880</td>\n",
       "      <td>g</td>\n",
       "    </tr>\n",
       "    <tr>\n",
       "      <th>23.8172</th>\n",
       "      <td>9.5728</td>\n",
       "      <td>2.3385</td>\n",
       "      <td>0.6147</td>\n",
       "      <td>0.3922</td>\n",
       "      <td>27.2107</td>\n",
       "      <td>-6.4633</td>\n",
       "      <td>-7.1513</td>\n",
       "      <td>10.4490</td>\n",
       "      <td>116.7370</td>\n",
       "      <td>g</td>\n",
       "    </tr>\n",
       "    <tr>\n",
       "      <th>75.1362</th>\n",
       "      <td>30.9205</td>\n",
       "      <td>3.1611</td>\n",
       "      <td>0.3168</td>\n",
       "      <td>0.1832</td>\n",
       "      <td>-5.5277</td>\n",
       "      <td>28.5525</td>\n",
       "      <td>21.8393</td>\n",
       "      <td>4.6480</td>\n",
       "      <td>356.4620</td>\n",
       "      <td>g</td>\n",
       "    </tr>\n",
       "  </tbody>\n",
       "</table>\n",
       "</div>"
      ],
      "text/plain": [
       "           fLength  fWidth   fSize  fConc1     fAsym  fM3Long  fM3Trans  \\\n",
       "28.7967    16.0021  2.6449  0.3918  0.1982   27.7004  22.0110   -8.2027   \n",
       "31.6036    11.7235  2.5185  0.5303  0.3773   26.2722  23.8238   -9.9574   \n",
       "162.0520  136.0310  4.0612  0.0374  0.0187  116.7410 -64.8580  -45.2160   \n",
       "23.8172     9.5728  2.3385  0.6147  0.3922   27.2107  -6.4633   -7.1513   \n",
       "75.1362    30.9205  3.1611  0.3168  0.1832   -5.5277  28.5525   21.8393   \n",
       "\n",
       "           fAlpha     fDist class  \n",
       "28.7967   40.0920   81.8828     g  \n",
       "31.6036    6.3609  205.2610     g  \n",
       "162.0520  76.9600  256.7880     g  \n",
       "23.8172   10.4490  116.7370     g  \n",
       "75.1362    4.6480  356.4620     g  "
      ]
     },
     "execution_count": 136,
     "metadata": {},
     "output_type": "execute_result"
    }
   ],
   "source": [
    "df.head()"
   ]
  },
  {
   "cell_type": "code",
   "execution_count": 137,
   "id": "965fc1c9",
   "metadata": {},
   "outputs": [],
   "source": [
    "# now we have the names.\n",
    "# one thing that we notice is class is g and h"
   ]
  },
  {
   "cell_type": "code",
   "execution_count": 138,
   "id": "d23b9599",
   "metadata": {},
   "outputs": [
    {
     "data": {
      "text/plain": [
       "array(['g', 'h'], dtype=object)"
      ]
     },
     "execution_count": 138,
     "metadata": {},
     "output_type": "execute_result"
    }
   ],
   "source": [
    "df['class'].unique()"
   ]
  },
  {
   "cell_type": "code",
   "execution_count": 139,
   "id": "99c01f8b",
   "metadata": {},
   "outputs": [],
   "source": [
    "# so we will convert this g-->1 and h-->0\n",
    "df['class'] = (df['class']=='g').astype(int)"
   ]
  },
  {
   "cell_type": "code",
   "execution_count": 140,
   "id": "167e9000",
   "metadata": {},
   "outputs": [
    {
     "data": {
      "text/html": [
       "<div>\n",
       "<style scoped>\n",
       "    .dataframe tbody tr th:only-of-type {\n",
       "        vertical-align: middle;\n",
       "    }\n",
       "\n",
       "    .dataframe tbody tr th {\n",
       "        vertical-align: top;\n",
       "    }\n",
       "\n",
       "    .dataframe thead th {\n",
       "        text-align: right;\n",
       "    }\n",
       "</style>\n",
       "<table border=\"1\" class=\"dataframe\">\n",
       "  <thead>\n",
       "    <tr style=\"text-align: right;\">\n",
       "      <th></th>\n",
       "      <th>fLength</th>\n",
       "      <th>fWidth</th>\n",
       "      <th>fSize</th>\n",
       "      <th>fConc1</th>\n",
       "      <th>fAsym</th>\n",
       "      <th>fM3Long</th>\n",
       "      <th>fM3Trans</th>\n",
       "      <th>fAlpha</th>\n",
       "      <th>fDist</th>\n",
       "      <th>class</th>\n",
       "    </tr>\n",
       "  </thead>\n",
       "  <tbody>\n",
       "    <tr>\n",
       "      <th>28.7967</th>\n",
       "      <td>16.0021</td>\n",
       "      <td>2.6449</td>\n",
       "      <td>0.3918</td>\n",
       "      <td>0.1982</td>\n",
       "      <td>27.7004</td>\n",
       "      <td>22.0110</td>\n",
       "      <td>-8.2027</td>\n",
       "      <td>40.0920</td>\n",
       "      <td>81.8828</td>\n",
       "      <td>1</td>\n",
       "    </tr>\n",
       "    <tr>\n",
       "      <th>31.6036</th>\n",
       "      <td>11.7235</td>\n",
       "      <td>2.5185</td>\n",
       "      <td>0.5303</td>\n",
       "      <td>0.3773</td>\n",
       "      <td>26.2722</td>\n",
       "      <td>23.8238</td>\n",
       "      <td>-9.9574</td>\n",
       "      <td>6.3609</td>\n",
       "      <td>205.2610</td>\n",
       "      <td>1</td>\n",
       "    </tr>\n",
       "    <tr>\n",
       "      <th>162.0520</th>\n",
       "      <td>136.0310</td>\n",
       "      <td>4.0612</td>\n",
       "      <td>0.0374</td>\n",
       "      <td>0.0187</td>\n",
       "      <td>116.7410</td>\n",
       "      <td>-64.8580</td>\n",
       "      <td>-45.2160</td>\n",
       "      <td>76.9600</td>\n",
       "      <td>256.7880</td>\n",
       "      <td>1</td>\n",
       "    </tr>\n",
       "    <tr>\n",
       "      <th>23.8172</th>\n",
       "      <td>9.5728</td>\n",
       "      <td>2.3385</td>\n",
       "      <td>0.6147</td>\n",
       "      <td>0.3922</td>\n",
       "      <td>27.2107</td>\n",
       "      <td>-6.4633</td>\n",
       "      <td>-7.1513</td>\n",
       "      <td>10.4490</td>\n",
       "      <td>116.7370</td>\n",
       "      <td>1</td>\n",
       "    </tr>\n",
       "    <tr>\n",
       "      <th>75.1362</th>\n",
       "      <td>30.9205</td>\n",
       "      <td>3.1611</td>\n",
       "      <td>0.3168</td>\n",
       "      <td>0.1832</td>\n",
       "      <td>-5.5277</td>\n",
       "      <td>28.5525</td>\n",
       "      <td>21.8393</td>\n",
       "      <td>4.6480</td>\n",
       "      <td>356.4620</td>\n",
       "      <td>1</td>\n",
       "    </tr>\n",
       "  </tbody>\n",
       "</table>\n",
       "</div>"
      ],
      "text/plain": [
       "           fLength  fWidth   fSize  fConc1     fAsym  fM3Long  fM3Trans  \\\n",
       "28.7967    16.0021  2.6449  0.3918  0.1982   27.7004  22.0110   -8.2027   \n",
       "31.6036    11.7235  2.5185  0.5303  0.3773   26.2722  23.8238   -9.9574   \n",
       "162.0520  136.0310  4.0612  0.0374  0.0187  116.7410 -64.8580  -45.2160   \n",
       "23.8172     9.5728  2.3385  0.6147  0.3922   27.2107  -6.4633   -7.1513   \n",
       "75.1362    30.9205  3.1611  0.3168  0.1832   -5.5277  28.5525   21.8393   \n",
       "\n",
       "           fAlpha     fDist  class  \n",
       "28.7967   40.0920   81.8828      1  \n",
       "31.6036    6.3609  205.2610      1  \n",
       "162.0520  76.9600  256.7880      1  \n",
       "23.8172   10.4490  116.7370      1  \n",
       "75.1362    4.6480  356.4620      1  "
      ]
     },
     "execution_count": 140,
     "metadata": {},
     "output_type": "execute_result"
    }
   ],
   "source": [
    "df.head()"
   ]
  },
  {
   "cell_type": "code",
   "execution_count": 141,
   "id": "36d75829",
   "metadata": {},
   "outputs": [
    {
     "data": {
      "text/plain": [
       "array([1, 0])"
      ]
     },
     "execution_count": 141,
     "metadata": {},
     "output_type": "execute_result"
    }
   ],
   "source": [
    "df['class'].unique()"
   ]
  },
  {
   "cell_type": "code",
   "execution_count": 142,
   "id": "57ecf303",
   "metadata": {},
   "outputs": [
    {
     "data": {
      "text/plain": [
       "(19020, 10)"
      ]
     },
     "execution_count": 142,
     "metadata": {},
     "output_type": "execute_result"
    }
   ],
   "source": [
    "df.shape"
   ]
  },
  {
   "cell_type": "code",
   "execution_count": 143,
   "id": "dcd9a4d6",
   "metadata": {},
   "outputs": [],
   "source": [
    "# before we dice in lets understand what is this data is about."
   ]
  },
  {
   "cell_type": "markdown",
   "id": "464d7880",
   "metadata": {},
   "source": [
    "**Overview**:\n",
    "\n",
    "    Origin and Collection:\n",
    "        The data was originally owned by the MAGIC (Major Atmospheric Gamma Imaging Cherenkov Telescope) project.\n",
    "        The dataset is generated using a Monte Carlo simulation, specifically the Corsika program.\n",
    "\n",
    "    Purpose of Data Collection:\n",
    "        The primary aim of the MAGIC gamma telescope is to observe high-energy gamma rays.\n",
    "        The telescope observes the radiation emitted by charged particles produced inside the electromagnetic showers  initiated by the gamma rays.\n",
    "        By capturing this Cherenkov radiation, the telescope can reconstruct the parameters of the shower.\n",
    "\n",
    "    Nature of the Data:\n",
    "        The data simulates the registration of these gamma particles.\n",
    "        The observations are patterns formed by the Cherenkov photons on photomultiplier tubes. These patterns are termed as 'shower images'.\n",
    "        The images can help discriminate between primary gamma-induced showers (signal) and background noise caused by cosmic rays in the atmosphere."
   ]
  },
  {
   "cell_type": "code",
   "execution_count": 144,
   "id": "4c9c37ac",
   "metadata": {},
   "outputs": [],
   "source": [
    "# g--> gamma (signal)\n",
    "# h--> hadron (background) --> background noise caused by cosmic rays in the atmosphere."
   ]
  },
  {
   "cell_type": "code",
   "execution_count": 145,
   "id": "4564c598",
   "metadata": {},
   "outputs": [],
   "source": [
    "# Importance:\n",
    "# The ability to observe high-energy gamma rays provides insights into astrophysical phenomena, \n",
    "# such as supermassive black holes, neutron stars, and supernovae."
   ]
  },
  {
   "cell_type": "markdown",
   "id": "534afb00",
   "metadata": {},
   "source": [
    "Let's break down the attributes (columns) provided in the dataset:\n",
    "\n",
    "1. **fLength:** This refers to the major axis of the ellipse. In the context of the data, the \"shower image\" of the detected gamma ray can often be represented as an elongated cluster that resembles an ellipse. The major axis is the longest diameter of that ellipse. It's measured in millimeters (mm).\n",
    "\n",
    "2. **fWidth:** This is the minor axis of the ellipse. It's the shortest diameter of the ellipse formed by the shower image. Also measured in millimeters (mm).\n",
    "\n",
    "3. **fSize:** This is a logarithmic representation (base 10) of the sum of the content of all pixels in the image. It gives an idea about the overall brightness or intensity of the detected image. The term \"content of all pixels\" here refers to the amount of Cherenkov photons detected in all the pixels of the camera.\n",
    "\n",
    "4. **fConc:** This is a ratio that represents the sum of the two highest pixel values (i.e., the two brightest spots in the image) over the total brightness (fSize). It gives an idea of the concentration of the light in the image. If the value is high, it means most of the light is concentrated in those two pixels.\n",
    "\n",
    "5. **fConc1:** This is the ratio of the highest pixel value over the total brightness (fSize). It provides insight into how much of the image's intensity is concentrated in its brightest spot.\n",
    "\n",
    "6. **fAsym:** This is the distance from the highest pixel (brightest spot) to the center of the image, projected onto the major axis. It provides a measure of the image's asymmetry. If the brightest spot is in the center, the value would be low. If it's towards one end of the major axis, the value would be higher. This distance is also measured in millimeters (mm).\n",
    "\n",
    "7. **fM3Long:** This refers to the third root of the third moment along the major axis. In statistics, moments are measures that describe the shape of a distribution. Here, the third moment along the major axis is likely describing some aspect of the distribution of light along the elongated shape of the shower image. The third root is taken to scale the value to be more interpretable.\n",
    "\n",
    "In simpler terms, these attributes are capturing the shape, brightness, and distribution of the detected light when the gamma rays strike the telescope. They are crucial for analyzing and differentiating between the gamma ray-induced showers and other background noises or events."
   ]
  },
  {
   "cell_type": "code",
   "execution_count": 146,
   "id": "c0e722a0",
   "metadata": {},
   "outputs": [
    {
     "data": {
      "image/png": "[encoded data removed]",
      "text/plain": [
       "<Figure size 640x480 with 1 Axes>"
      ]
     },
     "metadata": {},
     "output_type": "display_data"
    },
    {
     "data": {
      "image/png": "[encoded data removed]",
      "text/plain": [
       "<Figure size 640x480 with 1 Axes>"
      ]
     },
     "metadata": {},
     "output_type": "display_data"
    },
    {
     "data": {
      "image/png": "[encoded data removed]",
      "text/plain": [
       "<Figure size 640x480 with 1 Axes>"
      ]
     },
     "metadata": {},
     "output_type": "display_data"
    },
    {
     "data": {
      "image/png": "[encoded data removed]",
      "text/plain": [
       "<Figure size 640x480 with 1 Axes>"
      ]
     },
     "metadata": {},
     "output_type": "display_data"
    },
    {
     "data": {
      "image/png": "[encoded data removed]",
      "text/plain": [
       "<Figure size 640x480 with 1 Axes>"
      ]
     },
     "metadata": {},
     "output_type": "display_data"
    },
    {
     "data": {
      "image/png": "[encoded data removed]",
      "text/plain": [
       "<Figure size 640x480 with 1 Axes>"
      ]
     },
     "metadata": {},
     "output_type": "display_data"
    },
    {
     "data": {
      "image/png": "[encoded data removed]",
      "text/plain": [
       "<Figure size 640x480 with 1 Axes>"
      ]
     },
     "metadata": {},
     "output_type": "display_data"
    },
    {
     "data": {
      "image/png": "[encoded data removed]",
      "text/plain": [
       "<Figure size 640x480 with 1 Axes>"
      ]
     },
     "metadata": {},
     "output_type": "display_data"
    },
    {
     "data": {
      "image/png": "[encoded data removed]",
      "text/plain": [
       "<Figure size 640x480 with 1 Axes>"
      ]
     },
     "metadata": {},
     "output_type": "display_data"
    }
   ],
   "source": [
    "#lets see all the columns thata represent the gamma signals\n",
    "for column in cols[:-1]:\n",
    "    plt.hist(df[df['class']==1][column], color='blue', label='gamma', alpha=0.7, density=True)\n",
    "    plt.hist(df[df['class']==0][column], color='red', label='hydron', alpha=0.7, density=True)\n",
    "    plt.title(column)\n",
    "    plt.ylabel('Probability')\n",
    "    plt.xlabel(column)\n",
    "    plt.legend()\n",
    "    plt.show()"
   ]
  },
  {
   "cell_type": "code",
   "execution_count": 147,
   "id": "96235758",
   "metadata": {},
   "outputs": [],
   "source": [
    "# fAlpha --> for this the hydrons are evenly distributed, where as for most gamma values it is really smaller."
   ]
  },
  {
   "cell_type": "code",
   "execution_count": 148,
   "id": "3d2bedd8",
   "metadata": {},
   "outputs": [],
   "source": [
    "# Lets create train, validation, test"
   ]
  },
  {
   "cell_type": "markdown",
   "id": "07b2a89f",
   "metadata": {},
   "source": [
    "# Trian, Validation, and Test"
   ]
  },
  {
   "cell_type": "code",
   "execution_count": 203,
   "id": "36fcfbc8",
   "metadata": {},
   "outputs": [],
   "source": [
    "df_shuffled = df.sample(frac=1)\n",
    "first, second = [int(0.6*len(df)), int(0.8*len(df))]\n",
    "train = df_shuffled.iloc[:first]\n",
    "valid = df_shuffled.iloc[first:second]\n",
    "test = df_shuffled.iloc[second:]"
   ]
  },
  {
   "cell_type": "code",
   "execution_count": 204,
   "id": "5a92980c",
   "metadata": {},
   "outputs": [
    {
     "name": "stdout",
     "output_type": "stream",
     "text": [
      "(11412, 10) (3804, 10) (3804, 10) <class 'pandas.core.frame.DataFrame'> <class 'pandas.core.frame.DataFrame'> <class 'pandas.core.frame.DataFrame'>\n"
     ]
    }
   ],
   "source": [
    "print(train.shape, valid.shape, test.shape, type(train), type(valid), type(test))"
   ]
  },
  {
   "cell_type": "code",
   "execution_count": 205,
   "id": "cd372c2b",
   "metadata": {},
   "outputs": [],
   "source": [
    "# we have a another issue with scaling the columns, some columns are not in same scale as another columns.\n",
    "# so lets standardize the scale for each columns."
   ]
  },
  {
   "cell_type": "code",
   "execution_count": 206,
   "id": "a226293b",
   "metadata": {},
   "outputs": [],
   "source": [
    "def scale_dataset(dataframe, oversample=False):\n",
    "    X = dataframe[dataframe.columns[:-1]].values\n",
    "    y = dataframe[dataframe.columns[-1]].values\n",
    "    scaler = StandardScaler()\n",
    "    X = scaler.fit_transform(X)\n",
    "    if oversample:\n",
    "        ros = RandomOverSampler()\n",
    "        X, y = ros.fit_resample(X, y)\n",
    "    data = np.hstack((X,np.reshape(y,(-1,1))))\n",
    "    return data , X, y"
   ]
  },
  {
   "cell_type": "code",
   "execution_count": 207,
   "id": "e40fa006",
   "metadata": {},
   "outputs": [
    {
     "data": {
      "text/plain": [
       "Index(['fLength', 'fWidth', 'fSize', 'fConc1', 'fAsym', 'fM3Long', 'fM3Trans',\n",
       "       'fAlpha', 'fDist', 'class'],\n",
       "      dtype='object')"
      ]
     },
     "execution_count": 207,
     "metadata": {},
     "output_type": "execute_result"
    }
   ],
   "source": [
    "train.columns"
   ]
  },
  {
   "cell_type": "code",
   "execution_count": 208,
   "id": "d27f1788",
   "metadata": {},
   "outputs": [
    {
     "name": "stdout",
     "output_type": "stream",
     "text": [
      "7335\n",
      "4077\n"
     ]
    }
   ],
   "source": [
    "# we have created our scaler function.\n",
    "# we have another issue to deal with class imbalence.\n",
    "print(len(train[train['class']==1])) # gamma\n",
    "print(len(train[train['class']==0])) # hydron"
   ]
  },
  {
   "cell_type": "code",
   "execution_count": 209,
   "id": "fd6b4b33",
   "metadata": {},
   "outputs": [],
   "source": [
    "# see we have more gammas than hydrons.\n",
    "# because of this our model will be really good at predicting gammas and bad at hydrons :(\n",
    "# so, How to fix this, we have to increase the number of hydrons -> oversample.\n",
    "# we will import RandomOverSampler from imblearn.over_sampling"
   ]
  },
  {
   "cell_type": "code",
   "execution_count": 210,
   "id": "b5b76b1c",
   "metadata": {},
   "outputs": [
    {
     "name": "stdout",
     "output_type": "stream",
     "text": [
      "7335\n",
      "7335\n"
     ]
    }
   ],
   "source": [
    "train, X_train, y_train = scale_dataset(train, oversample=True)\n",
    "print(len(train[train[:,-1]==1])) # gamma\n",
    "print(len(train[train[:,-1]==0])) # hydron"
   ]
  },
  {
   "cell_type": "code",
   "execution_count": 211,
   "id": "7111ef6e",
   "metadata": {},
   "outputs": [],
   "source": [
    "# see the class is perfectly balence now."
   ]
  },
  {
   "cell_type": "code",
   "execution_count": 212,
   "id": "b7513f7c",
   "metadata": {},
   "outputs": [
    {
     "data": {
      "text/plain": [
       "14670"
      ]
     },
     "execution_count": 212,
     "metadata": {},
     "output_type": "execute_result"
    }
   ],
   "source": [
    "len(y_train)"
   ]
  },
  {
   "cell_type": "code",
   "execution_count": 213,
   "id": "bc378411",
   "metadata": {},
   "outputs": [
    {
     "data": {
      "text/plain": [
       "7335"
      ]
     },
     "execution_count": 213,
     "metadata": {},
     "output_type": "execute_result"
    }
   ],
   "source": [
    "sum(y_train==1)"
   ]
  },
  {
   "cell_type": "code",
   "execution_count": 214,
   "id": "4d278e7f",
   "metadata": {},
   "outputs": [
    {
     "data": {
      "text/plain": [
       "7335"
      ]
     },
     "execution_count": 214,
     "metadata": {},
     "output_type": "execute_result"
    }
   ],
   "source": [
    "sum(y_train==0)"
   ]
  },
  {
   "cell_type": "code",
   "execution_count": 215,
   "id": "94ab96ce",
   "metadata": {},
   "outputs": [],
   "source": [
    "valid, X_valid, y_valid = scale_dataset(valid, oversample=False)\n",
    "test, X_test, y_test = scale_dataset(test, oversample=False)"
   ]
  },
  {
   "cell_type": "markdown",
   "id": "4b588cee",
   "metadata": {},
   "source": [
    "**Model**\n",
    "Lets discuss about the model:-\n",
    "as you see the data we have is direcly pointing us to a classification problem, as the target is limited category values.\n",
    "well if it is a regression the target is infinite possible values, which is not a classification problem(Mostly).\n",
    "\n",
    "Lets get back to classification problems. for this problem we will go with k-Nearest-Neighbours Algorithm.\n",
    "\n",
    "The K-nearest neighbors (KNN) algorithm is a simple, supervised machine learning algorithm that can be used for both classification and regression tasks. It is based on the idea that similar data points tend to have similar labels.\n",
    "\n",
    "To classify a new data point using KNN, the algorithm first finds the K most similar data points in the training set, using a distance metric such as Euclidean distance. The algorithm then assigns the new data point to the class that is most common among the K nearest neighbors.\n",
    "\n",
    "KNN can also be used for regression tasks by finding the average of the K nearest neighbors' output values.\n",
    "\n",
    "KNN is a non-parametric algorithm, which means that it does not make any assumptions about the underlying distribution of the data. This makes KNN a versatile algorithm that can be used for a wide variety of problems.\n",
    "\n",
    "Here is an example of how KNN can be used for classification:\n",
    "\n",
    "Suppose we have a dataset of images of cats and dogs, and we want to train a model to classify new images as either cats or dogs. We can use KNN to do this by first training the model on a set of labeled images. When we want to classify a new image, the model will find the K most similar images in the training set and assign the new image to the class that is most common among the K nearest neighbors.\n",
    "\n",
    "One of the advantages of KNN is that it is very simple to implement and understand. However, KNN can also be computationally expensive, especially for large datasets. Additionally, KNN can be sensitive to the choice of distance metric and the value of K.\n",
    "\n",
    "Here are some of the pros and cons of the KNN algorithm:\n",
    "\n",
    "**Pros:**\n",
    "\n",
    "* Simple to implement and understand\n",
    "* Versatile and can be used for both classification and regression tasks\n",
    "* Non-parametric and does not make any assumptions about the underlying distribution of the data\n",
    "\n",
    "**Cons:**\n",
    "\n",
    "* Computationally expensive for large datasets\n",
    "* Sensitive to the choice of distance metric and the value of K\n",
    "\n",
    "Overall, KNN is a powerful and versatile machine learning algorithm that can be used for a wide variety of problems. However, it is important to be aware of the algorithm's limitations, such as its computational complexity and sensitivity to the choice of distance metric and K."
   ]
  },
  {
   "cell_type": "code",
   "execution_count": 216,
   "id": "04f3e958",
   "metadata": {},
   "outputs": [],
   "source": [
    "from sklearn.neighbors import KNeighborsClassifier\n",
    "from sklearn.metrics import classification_report"
   ]
  },
  {
   "cell_type": "code",
   "execution_count": 223,
   "id": "deab98c4",
   "metadata": {},
   "outputs": [
    {
     "data": {
      "text/html": [
       "<style>#sk-container-id-4 {color: black;background-color: white;}#sk-container-id-4 pre{padding: 0;}#sk-container-id-4 div.sk-toggleable {background-color: white;}#sk-container-id-4 label.sk-toggleable__label {cursor: pointer;display: block;width: 100%;margin-bottom: 0;padding: 0.3em;box-sizing: border-box;text-align: center;}#sk-container-id-4 label.sk-toggleable__label-arrow:before {content: \"▸\";float: left;margin-right: 0.25em;color: #696969;}#sk-container-id-4 label.sk-toggleable__label-arrow:hover:before {color: black;}#sk-container-id-4 div.sk-estimator:hover label.sk-toggleable__label-arrow:before {color: black;}#sk-container-id-4 div.sk-toggleable__content {max-height: 0;max-width: 0;overflow: hidden;text-align: left;background-color: #f0f8ff;}#sk-container-id-4 div.sk-toggleable__content pre {margin: 0.2em;color: black;border-radius: 0.25em;background-color: #f0f8ff;}#sk-container-id-4 input.sk-toggleable__control:checked~div.sk-toggleable__content {max-height: 200px;max-width: 100%;overflow: auto;}#sk-container-id-4 input.sk-toggleable__control:checked~label.sk-toggleable__label-arrow:before {content: \"▾\";}#sk-container-id-4 div.sk-estimator input.sk-toggleable__control:checked~label.sk-toggleable__label {background-color: #d4ebff;}#sk-container-id-4 div.sk-label input.sk-toggleable__control:checked~label.sk-toggleable__label {background-color: #d4ebff;}#sk-container-id-4 input.sk-hidden--visually {border: 0;clip: rect(1px 1px 1px 1px);clip: rect(1px, 1px, 1px, 1px);height: 1px;margin: -1px;overflow: hidden;padding: 0;position: absolute;width: 1px;}#sk-container-id-4 div.sk-estimator {font-family: monospace;background-color: #f0f8ff;border: 1px dotted black;border-radius: 0.25em;box-sizing: border-box;margin-bottom: 0.5em;}#sk-container-id-4 div.sk-estimator:hover {background-color: #d4ebff;}#sk-container-id-4 div.sk-parallel-item::after {content: \"\";width: 100%;border-bottom: 1px solid gray;flex-grow: 1;}#sk-container-id-4 div.sk-label:hover label.sk-toggleable__label {background-color: #d4ebff;}#sk-container-id-4 div.sk-serial::before {content: \"\";position: absolute;border-left: 1px solid gray;box-sizing: border-box;top: 0;bottom: 0;left: 50%;z-index: 0;}#sk-container-id-4 div.sk-serial {display: flex;flex-direction: column;align-items: center;background-color: white;padding-right: 0.2em;padding-left: 0.2em;position: relative;}#sk-container-id-4 div.sk-item {position: relative;z-index: 1;}#sk-container-id-4 div.sk-parallel {display: flex;align-items: stretch;justify-content: center;background-color: white;position: relative;}#sk-container-id-4 div.sk-item::before, #sk-container-id-4 div.sk-parallel-item::before {content: \"\";position: absolute;border-left: 1px solid gray;box-sizing: border-box;top: 0;bottom: 0;left: 50%;z-index: -1;}#sk-container-id-4 div.sk-parallel-item {display: flex;flex-direction: column;z-index: 1;position: relative;background-color: white;}#sk-container-id-4 div.sk-parallel-item:first-child::after {align-self: flex-end;width: 50%;}#sk-container-id-4 div.sk-parallel-item:last-child::after {align-self: flex-start;width: 50%;}#sk-container-id-4 div.sk-parallel-item:only-child::after {width: 0;}#sk-container-id-4 div.sk-dashed-wrapped {border: 1px dashed gray;margin: 0 0.4em 0.5em 0.4em;box-sizing: border-box;padding-bottom: 0.4em;background-color: white;}#sk-container-id-4 div.sk-label label {font-family: monospace;font-weight: bold;display: inline-block;line-height: 1.2em;}#sk-container-id-4 div.sk-label-container {text-align: center;}#sk-container-id-4 div.sk-container {/* jupyter's `normalize.less` sets `[hidden] { display: none; }` but bootstrap.min.css set `[hidden] { display: none !important; }` so we also need the `!important` here to be able to override the default hidden behavior on the sphinx rendered scikit-learn.org. See: https://github.com/scikit-learn/scikit-learn/issues/21755 */display: inline-block !important;position: relative;}#sk-container-id-4 div.sk-text-repr-fallback {display: none;}</style><div id=\"sk-container-id-4\" class=\"sk-top-container\"><div class=\"sk-text-repr-fallback\"><pre>KNeighborsClassifier()</pre><b>In a Jupyter environment, please rerun this cell to show the HTML representation or trust the notebook. <br />On GitHub, the HTML representation is unable to render, please try loading this page with nbviewer.org.</b></div><div class=\"sk-container\" hidden><div class=\"sk-item\"><div class=\"sk-estimator sk-toggleable\"><input class=\"sk-toggleable__control sk-hidden--visually\" id=\"sk-estimator-id-4\" type=\"checkbox\" checked><label for=\"sk-estimator-id-4\" class=\"sk-toggleable__label sk-toggleable__label-arrow\">KNeighborsClassifier</label><div class=\"sk-toggleable__content\"><pre>KNeighborsClassifier()</pre></div></div></div></div></div>"
      ],
      "text/plain": [
       "KNeighborsClassifier()"
      ]
     },
     "execution_count": 223,
     "metadata": {},
     "output_type": "execute_result"
    }
   ],
   "source": [
    "knn = KNeighborsClassifier(n_neighbors=5)\n",
    "knn.fit(X_train, y_train)"
   ]
  },
  {
   "cell_type": "code",
   "execution_count": 224,
   "id": "78f45ebe",
   "metadata": {},
   "outputs": [],
   "source": [
    "y_predict = knn.predict(X_test)"
   ]
  },
  {
   "cell_type": "code",
   "execution_count": 225,
   "id": "aeb37426",
   "metadata": {},
   "outputs": [
    {
     "name": "stdout",
     "output_type": "stream",
     "text": [
      "              precision    recall  f1-score   support\n",
      "\n",
      "           0       0.73      0.73      0.73      1300\n",
      "           1       0.86      0.86      0.86      2504\n",
      "\n",
      "    accuracy                           0.81      3804\n",
      "   macro avg       0.79      0.79      0.79      3804\n",
      "weighted avg       0.81      0.81      0.81      3804\n",
      "\n"
     ]
    }
   ],
   "source": [
    "print(classification_report(y_test, y_predict))"
   ]
  },
  {
   "cell_type": "code",
   "execution_count": null,
   "id": "ded95b10",
   "metadata": {},
   "outputs": [],
   "source": []
  }
 ],
 "metadata": {
  "kernelspec": {
   "display_name": "Python 3 (ipykernel)",
   "language": "python",
   "name": "python3"
  },
  "language_info": {
   "codemirror_mode": {
    "name": "ipython",
    "version": 3
   },
   "file_extension": ".py",
   "mimetype": "text/x-python",
   "name": "python",
   "nbconvert_exporter": "python",
   "pygments_lexer": "ipython3",
   "version": "3.11.4"
  }
 },
 "nbformat": 4,
 "nbformat_minor": 5
}
